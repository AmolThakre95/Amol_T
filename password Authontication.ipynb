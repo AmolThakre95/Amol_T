{
 "cells": [
  {
   "cell_type": "code",
   "execution_count": 4,
   "metadata": {},
   "outputs": [],
   "source": [
    "import getpass"
   ]
  },
  {
   "cell_type": "code",
   "execution_count": 17,
   "metadata": {},
   "outputs": [],
   "source": [
    "def pas(database):\n",
    "\n",
    "    a=0\n",
    "    for i in database.keys():\n",
    "        a=0\n",
    "        while a<3:\n",
    "            username = input(\"Enter Your Username : \")\n",
    "            if i == username:\n",
    "                \n",
    "                a1=0\n",
    "                while a1<3:\n",
    "                    password = getpass.getpass(\"Enter Your Password : \")\n",
    "                    if password == database.get(i):\n",
    "                        break\n",
    "                    elif password != database.get(i):\n",
    "                        a1+=1\n",
    "                        print('You have Entered Wrong password')\n",
    "                print('You have entered wrong password so many times')\n",
    "                break\n",
    "            elif i!= username:\n",
    "                print('You have Entered wrong usename ')\n",
    "                a=a+1\n",
    "                   \n"
   ]
  },
  {
   "cell_type": "code",
   "execution_count": 18,
   "metadata": {},
   "outputs": [],
   "source": [
    "d={'amol':'123'}"
   ]
  },
  {
   "cell_type": "code",
   "execution_count": 19,
   "metadata": {},
   "outputs": [
    {
     "name": "stdout",
     "output_type": "stream",
     "text": [
      "Enter Your Username : amol\n",
      "Enter Your Password : ········\n",
      "You have Entered Wrong password\n",
      "Enter Your Password : ········\n",
      "You have Entered Wrong password\n",
      "Enter Your Password : ········\n",
      "You have Entered Wrong password\n",
      "You have entered wrong password so many times\n"
     ]
    }
   ],
   "source": [
    "pas(d)"
   ]
  },
  {
   "cell_type": "code",
   "execution_count": null,
   "metadata": {},
   "outputs": [],
   "source": []
  }
 ],
 "metadata": {
  "kernelspec": {
   "display_name": "Python 3",
   "language": "python",
   "name": "python3"
  },
  "language_info": {
   "codemirror_mode": {
    "name": "ipython",
    "version": 3
   },
   "file_extension": ".py",
   "mimetype": "text/x-python",
   "name": "python",
   "nbconvert_exporter": "python",
   "pygments_lexer": "ipython3",
   "version": "3.8.5"
  },
  "toc": {
   "base_numbering": 1,
   "nav_menu": {},
   "number_sections": false,
   "sideBar": false,
   "skip_h1_title": false,
   "title_cell": "Table of Contents",
   "title_sidebar": "Contents",
   "toc_cell": false,
   "toc_position": {},
   "toc_section_display": false,
   "toc_window_display": false
  }
 },
 "nbformat": 4,
 "nbformat_minor": 4
}
